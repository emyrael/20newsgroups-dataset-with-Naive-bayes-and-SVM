{
 "cells": [
  {
   "cell_type": "code",
   "execution_count": 1,
   "metadata": {
    "id": "3MOZJxrMn9Lu"
   },
   "outputs": [],
   "source": [
    "import pandas as pd\n",
    "import numpy as np\n",
    "import seaborn as sns\n",
    "import matplotlib.pyplot as plt\n",
    "from sklearn.datasets import fetch_20newsgroups\n",
    "from sklearn.model_selection import train_test_split"
   ]
  },
  {
   "cell_type": "code",
   "execution_count": 2,
   "metadata": {
    "id": "Ed-orZyp1oq7"
   },
   "outputs": [],
   "source": [
    "datasetss = fetch_20newsgroups(subset='train')"
   ]
  },
  {
   "cell_type": "code",
   "execution_count": 3,
   "metadata": {
    "id": "7wTe5IdJ2xxM"
   },
   "outputs": [],
   "source": [
    "datasetss = ['sci.med','comp.graphics']\n",
    "dataset = fetch_20newsgroups(subset='train', categories=datasetss)"
   ]
  },
  {
   "cell_type": "code",
   "execution_count": 4,
   "metadata": {
    "colab": {
     "base_uri": "https://localhost:8080/"
    },
    "id": "ay8IKKMKimt0",
    "outputId": "08919533-9d1e-4126-e524-815492b99955"
   },
   "outputs": [
    {
     "name": "stdout",
     "output_type": "stream",
     "text": [
      "Training data size: 1178\n"
     ]
    }
   ],
   "source": [
    "print('Training data size:', len(dataset['data']))"
   ]
  },
  {
   "cell_type": "markdown",
   "metadata": {
    "id": "v8DdTI84i4F9"
   },
   "source": [
    "finding frequency for each category"
   ]
  },
  {
   "cell_type": "code",
   "execution_count": 5,
   "metadata": {
    "colab": {
     "base_uri": "https://localhost:8080/"
    },
    "id": "U3BEgi-mi7hH",
    "outputId": "0485c76b-d9f1-4333-a53c-5cb56ea7572c"
   },
   "outputs": [
    {
     "data": {
      "text/plain": [
       "(array([0, 1]), array([584, 594]))"
      ]
     },
     "execution_count": 5,
     "metadata": {},
     "output_type": "execute_result"
    }
   ],
   "source": [
    "targets, frequency = np.unique(dataset.target, return_counts=True)\n",
    "targets, frequency"
   ]
  },
  {
   "cell_type": "code",
   "execution_count": 6,
   "metadata": {
    "colab": {
     "base_uri": "https://localhost:8080/"
    },
    "id": "KK6tYMY5jGAW",
    "outputId": "1e82a0b7-f86e-4af7-c33f-b603a819a782"
   },
   "outputs": [
    {
     "name": "stdout",
     "output_type": "stream",
     "text": [
      "[('comp.graphics', 584), ('sci.med', 594)]\n"
     ]
    }
   ],
   "source": [
    "targets_str = np.array(dataset.target_names)\n",
    "print(list(zip(targets_str, frequency)))"
   ]
  },
  {
   "cell_type": "markdown",
   "metadata": {
    "id": "9IV_wbMRjRRU"
   },
   "source": [
    "Distribution of training data"
   ]
  },
  {
   "cell_type": "code",
   "execution_count": 7,
   "metadata": {
    "colab": {
     "base_uri": "https://localhost:8080/",
     "height": 335
    },
    "id": "20irEYTzjGBh",
    "outputId": "5fcd41af-debf-4c79-ba6f-6fef074170ae"
   },
   "outputs": [
    {
     "data": {
      "image/png": "[encoded data removed]",
      "text/plain": [
       "<Figure size 400x240 with 1 Axes>"
      ]
     },
     "metadata": {},
     "output_type": "display_data"
    }
   ],
   "source": [
    "fig=plt.figure(figsize=(5, 3), dpi= 80, facecolor='w', edgecolor='k')\n",
    "plt.bar(targets_str,frequency)\n",
    "plt.xticks(rotation=90)\n",
    "plt.title('Class distribution of 20 Newsgroups Training Data')\n",
    "plt.xlabel('News Group')\n",
    "plt.ylabel('Frequency')\n",
    "plt.show()"
   ]
  },
  {
   "cell_type": "markdown",
   "metadata": {
    "id": "nucq8ZOxjnHh"
   },
   "source": [
    "Data preprocessing and preparation and converting to dataframe to work with"
   ]
  },
  {
   "cell_type": "code",
   "execution_count": 8,
   "metadata": {
    "colab": {
     "base_uri": "https://localhost:8080/",
     "height": 204
    },
    "id": "0NqJfCaXjgM3",
    "outputId": "70b9f180-7307-48cd-f7e8-17bd2a3ae65d"
   },
   "outputs": [
    {
     "data": {
      "text/html": [
       "<div>\n",
       "<style scoped>\n",
       "    .dataframe tbody tr th:only-of-type {\n",
       "        vertical-align: middle;\n",
       "    }\n",
       "\n",
       "    .dataframe tbody tr th {\n",
       "        vertical-align: top;\n",
       "    }\n",
       "\n",
       "    .dataframe thead th {\n",
       "        text-align: right;\n",
       "    }\n",
       "</style>\n",
       "<table border=\"1\" class=\"dataframe\">\n",
       "  <thead>\n",
       "    <tr style=\"text-align: right;\">\n",
       "      <th></th>\n",
       "      <th>data</th>\n",
       "      <th>target</th>\n",
       "    </tr>\n",
       "  </thead>\n",
       "  <tbody>\n",
       "    <tr>\n",
       "      <th>0</th>\n",
       "      <td>From: zyeh@caspian.usc.edu (zhenghao yeh)\\nSub...</td>\n",
       "      <td>0</td>\n",
       "    </tr>\n",
       "    <tr>\n",
       "      <th>1</th>\n",
       "      <td>From: jim.zisfein@factory.com (Jim Zisfein) \\n...</td>\n",
       "      <td>1</td>\n",
       "    </tr>\n",
       "    <tr>\n",
       "      <th>2</th>\n",
       "      <td>From: stefan@lis.e-technik.tu-muenchen.de (Ste...</td>\n",
       "      <td>0</td>\n",
       "    </tr>\n",
       "    <tr>\n",
       "      <th>3</th>\n",
       "      <td>From: dougb@comm.mot.com (Doug Bank)\\nSubject:...</td>\n",
       "      <td>1</td>\n",
       "    </tr>\n",
       "    <tr>\n",
       "      <th>4</th>\n",
       "      <td>From: ranjan@cs.ubc.ca (Vishwa Ranjan)\\nSubjec...</td>\n",
       "      <td>0</td>\n",
       "    </tr>\n",
       "  </tbody>\n",
       "</table>\n",
       "</div>"
      ],
      "text/plain": [
       "                                                data  target\n",
       "0  From: zyeh@caspian.usc.edu (zhenghao yeh)\\nSub...       0\n",
       "1  From: jim.zisfein@factory.com (Jim Zisfein) \\n...       1\n",
       "2  From: stefan@lis.e-technik.tu-muenchen.de (Ste...       0\n",
       "3  From: dougb@comm.mot.com (Doug Bank)\\nSubject:...       1\n",
       "4  From: ranjan@cs.ubc.ca (Vishwa Ranjan)\\nSubjec...       0"
      ]
     },
     "execution_count": 8,
     "metadata": {},
     "output_type": "execute_result"
    }
   ],
   "source": [
    "dataset_df = pd.DataFrame({'data': dataset.data, 'target': dataset.target})\n",
    "dataset_df.head()"
   ]
  },
  {
   "cell_type": "markdown",
   "metadata": {},
   "source": [
    "Removing punctuations and converting all alpabets to lower case "
   ]
  },
  {
   "cell_type": "code",
   "execution_count": 9,
   "metadata": {
    "colab": {
     "base_uri": "https://localhost:8080/",
     "height": 204
    },
    "id": "5nJT8lE7j-2y",
    "outputId": "c1668348-ea1c-43ab-826c-b8c322d59686"
   },
   "outputs": [
    {
     "data": {
      "text/html": [
       "<div>\n",
       "<style scoped>\n",
       "    .dataframe tbody tr th:only-of-type {\n",
       "        vertical-align: middle;\n",
       "    }\n",
       "\n",
       "    .dataframe tbody tr th {\n",
       "        vertical-align: top;\n",
       "    }\n",
       "\n",
       "    .dataframe thead th {\n",
       "        text-align: right;\n",
       "    }\n",
       "</style>\n",
       "<table border=\"1\" class=\"dataframe\">\n",
       "  <thead>\n",
       "    <tr style=\"text-align: right;\">\n",
       "      <th></th>\n",
       "      <th>data</th>\n",
       "      <th>target</th>\n",
       "    </tr>\n",
       "  </thead>\n",
       "  <tbody>\n",
       "    <tr>\n",
       "      <th>0</th>\n",
       "      <td>from  zyeh caspian usc edu  zhenghao yeh \\nsub...</td>\n",
       "      <td>0</td>\n",
       "    </tr>\n",
       "    <tr>\n",
       "      <th>1</th>\n",
       "      <td>from  jim zisfein factory com  jim zisfein  \\n...</td>\n",
       "      <td>1</td>\n",
       "    </tr>\n",
       "    <tr>\n",
       "      <th>2</th>\n",
       "      <td>from  stefan lis e technik tu muenchen de  ste...</td>\n",
       "      <td>0</td>\n",
       "    </tr>\n",
       "    <tr>\n",
       "      <th>3</th>\n",
       "      <td>from  dougb comm mot com  doug bank \\nsubject ...</td>\n",
       "      <td>1</td>\n",
       "    </tr>\n",
       "    <tr>\n",
       "      <th>4</th>\n",
       "      <td>from  ranjan cs ubc ca  vishwa ranjan \\nsubjec...</td>\n",
       "      <td>0</td>\n",
       "    </tr>\n",
       "  </tbody>\n",
       "</table>\n",
       "</div>"
      ],
      "text/plain": [
       "                                                data  target\n",
       "0  from  zyeh caspian usc edu  zhenghao yeh \\nsub...       0\n",
       "1  from  jim zisfein factory com  jim zisfein  \\n...       1\n",
       "2  from  stefan lis e technik tu muenchen de  ste...       0\n",
       "3  from  dougb comm mot com  doug bank \\nsubject ...       1\n",
       "4  from  ranjan cs ubc ca  vishwa ranjan \\nsubjec...       0"
      ]
     },
     "execution_count": 9,
     "metadata": {},
     "output_type": "execute_result"
    }
   ],
   "source": [
    "# Text preprocessing steps - remove numbers, captial letters and punctuation\n",
    "import re\n",
    "import string\n",
    "\n",
    "alphanumeric = lambda x: re.sub(r\"\"\"\\w*\\d\\w*\"\"\", ' ', x)\n",
    "punc_lower = lambda x: re.sub('[%s]' % re.escape(string.punctuation), ' ', x.lower())\n",
    "\n",
    "dataset_df['data'] = dataset_df.data.map(alphanumeric).map(punc_lower)\n",
    "dataset_df.head()"
   ]
  },
  {
   "cell_type": "markdown",
   "metadata": {
    "id": "DfawDFrdkZj9"
   },
   "source": [
    "Removing stop words with count vectorizer and implementing Bag of Words"
   ]
  },
  {
   "cell_type": "code",
   "execution_count": 10,
   "metadata": {
    "colab": {
     "base_uri": "https://localhost:8080/"
    },
    "id": "suwofW5akchx",
    "outputId": "ea90a77d-3276-4f1c-ade6-3b085545b9e5"
   },
   "outputs": [
    {
     "name": "stdout",
     "output_type": "stream",
     "text": [
      "(1178, 20602)\n",
      "<class 'scipy.sparse.csr.csr_matrix'>\n"
     ]
    }
   ],
   "source": [
    "from sklearn.feature_extraction.text import CountVectorizer\n",
    "\n",
    "count_vect = CountVectorizer(stop_words='english')\n",
    "\n",
    "dataset_new = count_vect.fit_transform(dataset_df.data)  # fit_transform learns the vocab and one-hot encodes\n",
    "\n",
    "print(dataset_new.shape)\n",
    "print(type(dataset_new))"
   ]
  },
  {
   "cell_type": "markdown",
   "metadata": {},
   "source": [
    "3) Implementing a TF-IDF feature representation for each text sample"
   ]
  },
  {
   "cell_type": "code",
   "execution_count": 11,
   "metadata": {
    "colab": {
     "base_uri": "https://localhost:8080/"
    },
    "id": "zomE21e9l5Kl",
    "outputId": "0ad2fab7-221e-42e2-b4a1-faa4487d07c8"
   },
   "outputs": [
    {
     "name": "stdout",
     "output_type": "stream",
     "text": [
      "(1178, 20602)\n",
      "<class 'numpy.ndarray'>\n"
     ]
    }
   ],
   "source": [
    "# Creating a document-term matrix using TF-IDF\n",
    "from sklearn.feature_extraction.text import TfidfVectorizer\n",
    "\n",
    "tfidfV = TfidfVectorizer(stop_words='english') \n",
    "# tfidfV = TfidfVectorizer(ngram_range=(1, 2), binary =True, stop_words='english') \n",
    "\n",
    "dataset_tfidfV = tfidfV.fit_transform(dataset_df.data).toarray() # fit_transform learns the vocab and one-hot encodes \n",
    "\n",
    "# print the dimensions of the training set \n",
    "print(dataset_tfidfV.shape)\n",
    "print(type(dataset_tfidfV))"
   ]
  },
  {
   "cell_type": "markdown",
   "metadata": {
    "id": "hyFKwFyynXM1"
   },
   "source": [
    "Splitting the datasets into train, test and validation"
   ]
  },
  {
   "cell_type": "code",
   "execution_count": 12,
   "metadata": {
    "id": "YxPCABSgo8Av"
   },
   "outputs": [],
   "source": [
    "X_train, X_test, y_train, y_test = train_test_split(\n",
    "    dataset_tfidfV, dataset.target, test_size=0.1, random_state=3116)\n",
    "X_train, X_val, y_train, y_val = train_test_split(\n",
    "    X_train, y_train, test_size=0.10, random_state=3116)\n"
   ]
  },
  {
   "cell_type": "code",
   "execution_count": 19,
   "metadata": {
    "id": "gxhfKlRWoLVo"
   },
   "outputs": [],
   "source": [
    "class MultinomialNB():\n",
    "    def __init__(self, alpha=1):\n",
    "        self.alpha = alpha \n",
    "\n",
    "    def fit(self, X_train, y_train):\n",
    "        m, n = X_train.shape\n",
    "        self._classes = np.unique(y_train)\n",
    "        n_classes = len(self._classes)\n",
    "\n",
    "        # init: Prior & Likelihood\n",
    "        self._priors = np.zeros(n_classes)\n",
    "        self._likelihoods = np.zeros((n_classes, n))\n",
    "\n",
    "       # Get Prior and Likelihood\n",
    "        for idx, c in enumerate(self._classes):\n",
    "            X_train_c = X_train[c == y_train]\n",
    "            self._priors[idx] = X_train_c.shape[0] / m \n",
    "            self._likelihoods[idx, :] = ((X_train_c.sum(axis=0)) + self.alpha) / (np.sum(X_train_c.sum(axis=0) + self.alpha))\n",
    "    def predict(self, X_test):\n",
    "        return [self._predict(x_test) for x_test in X_test]    \n",
    "\n",
    "    def _predict(self, x_test):\n",
    "    # Calculate posterior for each class\n",
    "        posteriors = []\n",
    "        for idx, c in enumerate(self._classes):\n",
    "            prior_c = np.log(self._priors[idx])\n",
    "            likelihoods_c = self.calc_likelihood(self._likelihoods[idx,:], x_test)\n",
    "            posteriors_c = np.sum(likelihoods_c) + prior_c\n",
    "            posteriors.append(posteriors_c)\n",
    "\n",
    "        return self._classes[np.argmax(posteriors)]\n",
    "    def calc_likelihood(self, cls_likeli, x_test):\n",
    "        return np.log(cls_likeli) * x_test\n",
    "\n",
    "    def score(self, X_test, y_test):\n",
    "        y_pred = self.predict(X_test)\n",
    "        return np.sum(y_pred == y_test)/len(y_test)\n",
    "\n",
    " \n",
    "\n",
    "\n"
   ]
  },
  {
   "cell_type": "code",
   "execution_count": 20,
   "metadata": {
    "id": "XGXcpb9tpXGQ"
   },
   "outputs": [],
   "source": [
    "classifier = MultinomialNB()\n",
    "classifier.fit(X_train, y_train)"
   ]
  },
  {
   "cell_type": "code",
   "execution_count": 21,
   "metadata": {
    "id": "QF9UslMKpdR0"
   },
   "outputs": [],
   "source": [
    "ypred_MNB=classifier.predict(X_test)\n"
   ]
  },
  {
   "cell_type": "code",
   "execution_count": 23,
   "metadata": {
    "colab": {
     "base_uri": "https://localhost:8080/"
    },
    "id": "NjiAXgwMswKv",
    "outputId": "6aab4f37-27c2-43e3-eb3c-1a3defa6d4fc"
   },
   "outputs": [
    {
     "name": "stdout",
     "output_type": "stream",
     "text": [
      "[0, 1, 1, 0, 0, 1, 0, 1, 1, 1, 0, 1, 1, 1, 1, 1, 1, 0, 1, 0, 0, 0, 1, 0, 1, 0, 0, 1, 0, 1, 0, 1, 1, 0, 1, 1, 1, 1, 1, 1, 1, 0, 1, 0, 0, 1, 0, 1, 1, 1, 0, 1, 1, 1, 0, 0, 1, 1, 0, 0, 0, 0, 0, 0, 0, 1, 0, 0, 1, 1, 1, 0, 0, 1, 1, 1, 1, 0, 1, 0, 0, 0, 0, 1, 0, 0, 0, 1, 1, 0, 1, 1, 0, 1, 1, 1, 1, 1, 0, 1, 1, 1, 0, 1, 0, 0, 1, 0, 0, 0, 0, 0, 0, 0, 0, 1, 0, 0]\n"
     ]
    }
   ],
   "source": [
    "print (ypred_MNB)"
   ]
  },
  {
   "cell_type": "code",
   "execution_count": 25,
   "metadata": {
    "colab": {
     "base_uri": "https://localhost:8080/"
    },
    "id": "NY_GvbKBuVvi",
    "outputId": "3df89a2f-8ba2-46f9-ce9b-0666a575eb98"
   },
   "outputs": [
    {
     "name": "stdout",
     "output_type": "stream",
     "text": [
      "0.9745762711864406\n",
      "              precision    recall  f1-score   support\n",
      "\n",
      "           0       0.96      0.98      0.97        56\n",
      "           1       0.98      0.97      0.98        62\n",
      "\n",
      "    accuracy                           0.97       118\n",
      "   macro avg       0.97      0.97      0.97       118\n",
      "weighted avg       0.97      0.97      0.97       118\n",
      "\n"
     ]
    }
   ],
   "source": [
    "from sklearn.metrics import classification_report, accuracy_score \n",
    "print(accuracy_score(y_test, ypred_MNB))\n",
    "print(classification_report(y_test, ypred_MNB))"
   ]
  },
  {
   "cell_type": "code",
   "execution_count": 26,
   "metadata": {
    "colab": {
     "base_uri": "https://localhost:8080/"
    },
    "id": "M-sD-w0twL_8",
    "outputId": "c94d1ef1-45d7-420d-c94b-4b76f6170313"
   },
   "outputs": [
    {
     "data": {
      "text/plain": [
       "SVC(kernel='linear', random_state=3116)"
      ]
     },
     "execution_count": 26,
     "metadata": {},
     "output_type": "execute_result"
    }
   ],
   "source": [
    "from sklearn.svm import SVC\n",
    "svm = SVC(kernel = 'linear', gamma= 'scale', random_state = 3116)\n",
    "svm.fit(X_val, y_val)"
   ]
  },
  {
   "cell_type": "code",
   "execution_count": 28,
   "metadata": {
    "colab": {
     "base_uri": "https://localhost:8080/"
    },
    "id": "NqvoxRqxwogW",
    "outputId": "ded61979-3880-453d-c0bb-aa46baeb607e"
   },
   "outputs": [
    {
     "name": "stdout",
     "output_type": "stream",
     "text": [
      "0.9152542372881356\n",
      "              precision    recall  f1-score   support\n",
      "\n",
      "           0       0.85      1.00      0.92        56\n",
      "           1       1.00      0.84      0.91        62\n",
      "\n",
      "    accuracy                           0.92       118\n",
      "   macro avg       0.92      0.92      0.92       118\n",
      "weighted avg       0.93      0.92      0.92       118\n",
      "\n"
     ]
    }
   ],
   "source": [
    "y_pred_svm = svm.predict(X_test)\n",
    "print(accuracy_score(y_test, y_pred_svm))\n",
    "print(classification_report(y_test, y_pred_svm))"
   ]
  },
  {
   "cell_type": "markdown",
   "metadata": {},
   "source": [
    "Comparing both model accuracies on a boxplot"
   ]
  },
  {
   "cell_type": "code",
   "execution_count": 29,
   "metadata": {
    "colab": {
     "base_uri": "https://localhost:8080/",
     "height": 294
    },
    "id": "BEd4mE2x1BcL",
    "outputId": "28922834-f2cd-4815-b91d-6144ada6afd5"
   },
   "outputs": [
    {
     "data": {
      "image/png": "[encoded data removed]",
      "text/plain": [
       "<Figure size 432x288 with 1 Axes>"
      ]
     },
     "metadata": {
      "needs_background": "light"
     },
     "output_type": "display_data"
    }
   ],
   "source": [
    "results = [ypred_MNB,y_pred_svm]\n",
    "names = ['Naivebayes accuracy','SVM accuracy']\n",
    "fig = plt.figure()\n",
    "fig.suptitle('Acccuracies comparism ')\n",
    "ax = fig.add_subplot(111)\n",
    "plt.boxplot(results)\n",
    "ax.set_xticklabels(names)\n",
    "plt.show()\n",
    "\n"
   ]
  },
  {
   "cell_type": "markdown",
   "metadata": {},
   "source": [
    "## REPORT:\n",
    "From both models we can see I acheived a higher accuracy on my Naivebayes Model than my SVM model, this might be because the NaiveBayes model had more data to train with than the SVM model which only trained with my validation split but overall both model performed well which is as a result of text preproccessing and stop words removal."
   ]
  },
  {
   "cell_type": "code",
   "execution_count": null,
   "metadata": {},
   "outputs": [],
   "source": []
  }
 ],
 "metadata": {
  "colab": {
   "collapsed_sections": [],
   "name": "Lab 11 .ipynb",
   "provenance": [],
   "toc_visible": true
  },
  "kernelspec": {
   "display_name": "Python 3",
   "language": "python",
   "name": "python3"
  },
  "language_info": {
   "codemirror_mode": {
    "name": "ipython",
    "version": 3
   },
   "file_extension": ".py",
   "mimetype": "text/x-python",
   "name": "python",
   "nbconvert_exporter": "python",
   "pygments_lexer": "ipython3",
   "version": "3.8.3"
  }
 },
 "nbformat": 4,
 "nbformat_minor": 1
}
